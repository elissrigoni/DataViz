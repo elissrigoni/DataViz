{
 "cells": [
  {
   "cell_type": "markdown",
   "id": "2adf3933",
   "metadata": {},
   "source": [
    "**2. [0-5 points] Discuss in detail the issue of accessible design for a data visualization, providing graphical examples (different from those included in the lecture notes) explaining the underlying concepts.**"
   ]
  },
  {
   "cell_type": "markdown",
   "id": "d2ead320",
   "metadata": {},
   "source": [
    "A good data visualization is accessible if the viewer experiences minimum friction between the act of understanding (effort) and the achieving of understanding (reward). Namely, there should be a compromise between complexity of the data you are showing and the complexity you are asking the receiver to overcome and the actual understanding that he is able to achieve. Accessibility in visualisation design is concerned with giving your audience access to useful understanding. It must be relevant to the subject and relevant to their needs. This needs to be achieved in a way that does not require undue effort to perceive, interpret and comprehend.\n",
    "\n",
    "To achieve optimal accessibility of a dataviz tool, two main parties have to act:\n",
    "\n",
    "From the reader’s side: \n",
    "- subject/matter appeal, dynamic of need, subject/matter knowledge, what they need to know, issue of unfamiliar representation, time, format, personal taste, attitude & emotion \n",
    "\n",
    "From the author’s side: \n",
    "- lack of focus, not deep enough, oversimplified representation, unfit for the setting, visually inaccessible, misjudged format (details get lost), too many interactive options, too complex representation, absent annotations \n",
    "\n",
    "When considering the level of your subject matter and the nature of your analysis, if you do not think your audience will understand what you are presenting, you have a choice: to sim- plify or clarify.\n",
    "* Simplify when your audience do not have the knowledge or capacity to handle a compli- cated subject and do not need to acquire deep understanding about it.\n",
    "* Clarify when your audience do not have the knowledge but do have the capacity to handle a complicated subject, with assistance. Provide features of annotations to explain what the subject is about, how to read it, what features are significant, and what it all means. Do not underestimate the capacity of your audience to be willing and able to grasp topics they have no prior understanding about. Often, this is what they want out of a visualisation experience.\n",
    "\n",
    "Furthermore, some common accessibility barriers for data visualizations include: \n",
    "- Prioritizing the visual experience without consideration for people navigating via screen reader\n",
    "- Color schemes that are not accessible to people who are color blind or have low vision\n",
    "- Interactive elements that are not reachable for people navigating via keyboard\n"
   ]
  },
  {
   "cell_type": "markdown",
   "id": "7e620b9e",
   "metadata": {},
   "source": [
    "For example, according to the Web Content Accessibility Guidelines (WCAG 2.0), colors need to have sufficient contrast and cannot be the sole means of communicating information. \n",
    "Your color scheme should have a high color contrast ratio to meet contrast accessibility standards. Some additional steps you can take to ensure color contrast accessibility can be:\n",
    "\n",
    "- Use a color contrast checker to ensure high enough contrast ratios\n",
    "- Use tools such as Colorsafe to create an accessible color palette\n",
    "- Use a simulator such as Coblis to see what your color scheme might look like to someone who is colorblind"
   ]
  },
  {
   "cell_type": "code",
   "execution_count": 11,
   "id": "a48b8a37",
   "metadata": {
    "scrolled": false
   },
   "outputs": [
    {
     "data": {
      "text/html": [
       "<img src=\"accessible data.png\"/>"
      ],
      "text/plain": [
       "<IPython.core.display.Image object>"
      ]
     },
     "execution_count": 11,
     "metadata": {},
     "output_type": "execute_result"
    }
   ],
   "source": [
    "from IPython.display import Image  \n",
    "Image(url=\"accessible data.png\")"
   ]
  }
 ],
 "metadata": {
  "kernelspec": {
   "display_name": "Python 3",
   "language": "python",
   "name": "python3"
  },
  "language_info": {
   "codemirror_mode": {
    "name": "ipython",
    "version": 3
   },
   "file_extension": ".py",
   "mimetype": "text/x-python",
   "name": "python",
   "nbconvert_exporter": "python",
   "pygments_lexer": "ipython3",
   "version": "3.8.8"
  },
  "toc": {
   "base_numbering": 1,
   "nav_menu": {},
   "number_sections": true,
   "sideBar": true,
   "skip_h1_title": false,
   "title_cell": "Table of Contents",
   "title_sidebar": "Contents",
   "toc_cell": false,
   "toc_position": {},
   "toc_section_display": true,
   "toc_window_display": false
  }
 },
 "nbformat": 4,
 "nbformat_minor": 5
}
