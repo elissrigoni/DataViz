{
 "cells": [
  {
   "cell_type": "markdown",
   "id": "a4c0e93b",
   "metadata": {},
   "source": [
    "**1. [0-5 points] Describe in detail the meaning of the visual encoding elements in the following infographic describing incidence of post-native depression in the US between 1990-2015. Indicate also pros and cons of the infographic itself in terms of data visualization aspects.**"
   ]
  },
  {
   "cell_type": "code",
   "execution_count": 3,
   "id": "1243cf4c",
   "metadata": {},
   "outputs": [
    {
     "data": {
      "text/html": [
       "<img src=\"Ex1.png\"/>"
      ],
      "text/plain": [
       "<IPython.core.display.Image object>"
      ]
     },
     "execution_count": 3,
     "metadata": {},
     "output_type": "execute_result"
    }
   ],
   "source": [
    "from IPython.display import Image  \n",
    "# get the image\n",
    "Image(url=\"Ex1.png\")"
   ]
  },
  {
   "cell_type": "markdown",
   "id": "47788c43",
   "metadata": {},
   "source": [
    "Reading a graph is the first sample data representation, whose steps are:\n",
    "\n",
    "1. **Dataviz perception**: consists in decoding the elements of a graph (shapes, sizes, positions, colors).\n",
    "2. **Dataviz interpretation**: consists in the decoding of the meaning of a graph, i.e. making sense of the overall graphic construction.\n",
    "\n",
    "While talking about the developing of your design solution, data representation is one of the most important layer of the visualization design structure. A visualizer (the person in charge of creating visualizations) does the reverse process of decoding, which is decoding. Decoding consists in assigning visual properties to data values. And this is the basic of any data representation, along with the components that help completing the chart display. There are different way to encode data, anyway data encoding is always a combination of marks and attributes. The way of getting the best data representation is finding the right blend of marks & attributes that most effectively portray the angle of analysis you wish to show. Marks are visibile features (e.g., dots, line and areas). \n",
    "\n",
    "An individual **mark** can represent a record of instance of data, but it can also represent an aggregation of records or instances. In this specific case the chart displayes:\n",
    "- **point**: the point mark has no variation (constant) in the spatial dimension. It is largely a placeholder commonly used to represent a quantity through position on a scale, forming the basis of, for example, scatter plots (like in this case).\n",
    "\n",
    "- **line**: The line mark has one (linear) spatial dimension. It is commonly used to represent quantitative value through variation in size, forming the basis of, for example, the bar chart. In this specific case the line represented has the purpose to show the trend in the phenomenon, according to the variables associated to each axis. We can assume that the line represented is obtained as through a regression linear model.\n",
    "\n",
    "**Attributes** are variations applied to the appearence of marks, such as size, position, or color. They are used to represent the values held by different quantitative or categorical variables against each record, instance or aggregation. \n",
    "- **Color hue** is a categorical attribute typically used for distinguishing different categorical data values, but can also be used in conjunction with other color properties to represent certain quantitative scales. In this specific case different color hues are used to highlight the variation in the variable represented. For example, observations that show a *'Decrease in births among immigrant and US-born women'* are colored in light blue, while *'Increase in births among immigrant women, decrease among US-born women'* are colored in blue.\n",
    "- **Color saturation** can be used (often in conjunction with other color properties) to represent quantitative scales, tipically the greater the saturation, the higher the quantity. In the case of the given graph different colors are used to represent different rates of *'Births to immigrant women'*, as percentage of the total number of births. As the rate increases, the color assigned to the different US nations becomes much more saturated.\n",
    "\n",
    "**ABOUT THE INFOGRAPHIC**\n",
    "The larger plot represents a **scatter plot**, which displays the relationship between two quantitative variables for different category items. The display is formed by point marks for each item, plotted positionally along each quantitative axis. As we said, attributes of colour hue are used to distinguish categorical dimensions across all items. \n",
    "\n",
    "The other plot is a **choropleth map**, which displays quantitative values for distinct, definable spatial regions. Each region is represented by a defined polygonal shape, with each distinct shape collectively arranged to form the entire landscape. An attribute of colour is used to represent a quantitative measurement. Choropleth maps should only be used when the quantitative measure is directly associated with and continuously relevant across the spatial region on which it will be displayed. \n",
    "\n",
    "**Pros of the infographic**\n",
    "\n",
    "Very good plot in terms of annotations, labels are informative guides and are essential in data design, they focus on clarity, readability and differentiation, so to highlight how diverse data are. Moreover the three blocks of annotation are not disturbing, since they do not overlap any important part of the graph. The change of color helps to understand the annotation about the change birth rates and leads the reader to a better understanding of the data represented. The plot allows to precisely identify the message authors wanted to convey\n",
    "\n",
    "**Cons of the infographic**\n",
    "Personally I like the graph represented, all the elements included help me to undderstand the topic. In fact, ideally a scatter plot will have a squared aspect ratio (equally tall as it is wide) to help patterns surface more evidently. "
   ]
  }
 ],
 "metadata": {
  "kernelspec": {
   "display_name": "Python 3",
   "language": "python",
   "name": "python3"
  },
  "language_info": {
   "codemirror_mode": {
    "name": "ipython",
    "version": 3
   },
   "file_extension": ".py",
   "mimetype": "text/x-python",
   "name": "python",
   "nbconvert_exporter": "python",
   "pygments_lexer": "ipython3",
   "version": "3.8.8"
  },
  "toc": {
   "base_numbering": 1,
   "nav_menu": {},
   "number_sections": true,
   "sideBar": true,
   "skip_h1_title": false,
   "title_cell": "Table of Contents",
   "title_sidebar": "Contents",
   "toc_cell": false,
   "toc_position": {},
   "toc_section_display": true,
   "toc_window_display": false
  }
 },
 "nbformat": 4,
 "nbformat_minor": 5
}
